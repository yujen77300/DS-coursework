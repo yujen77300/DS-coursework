{
 "cells": [
  {
   "cell_type": "markdown",
   "metadata": {},
   "source": [
    "## Programming part of Homework 3 (Data Structures, Fall 2024)\n",
    "\n",
    "## Name: 黃育仁 \n",
    "## Student ID Number: 103054331\n",
    "\n",
    "### Programming problem\n",
    "Recall the problem of listing all the binary numbers smaller than or equal to a given number $n$. Please use Python to implement the pseudo-code you provide for solving the problem with the approach, named as `generateBinaryNumbers()`. \n",
    "\n",
    "#### Examples:\n",
    "```\n",
    "Input: 10\n",
    "Output: ['1', '10', '11', '100', '101', '110', '111', '1000', '1001', '1010']\n",
    "Explanation: 10 binary numbers are generated sequentially\n",
    "\n",
    "Input: 13\n",
    "Output: ['1', '10', '11', '100', '101', '110', '111', '1000', '1001', '1010', '1011', '1100', '1101']\n",
    "Explanation: 13 binary numbers are generated sequentially\n",
    "```\n",
    "Please note that your program *must use a **queue*** as an auxiliary tool. When you submit your homework, you need to indicate where the queue is in your program and how it helps. Hence, you need to\n",
    "1. implement the approach as a function named as `generateBinaryNumbers()`,\n",
    "2. implement a ***queue*** data structure to manage the items used for the method, and\n",
    "3. give a short statement for indicating where and how the queue is used in your program."
   ]
  },
  {
   "cell_type": "code",
   "execution_count": null,
   "metadata": {},
   "outputs": [
    {
     "name": "stdout",
     "output_type": "stream",
     "text": [
      "When n is, 10 , the binary numbers are:\n",
      "['1', '10', '11', '100', '101', '110', '111', '1000', '1001', '1010']\n",
      "When n is, 13 , the binary numbers are:\n",
      "['1', '10', '11', '100', '101', '110', '111', '1000', '1001', '1010', '1011', '1100', '1101']\n"
     ]
    }
   ],
   "source": [
    "# Queue class: can be implemented using a list in Python\n",
    "class Queue:\n",
    "    def __init__(self):\n",
    "        self.items = []\n",
    "\n",
    "    def enqueue(self, item):\n",
    "        self.items.append(item)\n",
    "\n",
    "    def dequeue(self):\n",
    "        if not self.isEmpty():\n",
    "            return self.items.pop(0)\n",
    "        return None\n",
    "\n",
    "    def isEmpty(self):\n",
    "        return len(self.items) == 0\n",
    "\n",
    "    def size(self):\n",
    "        return len(self.items)\n",
    "\n",
    "    def peek(self):\n",
    "        if not self.isEmpty():\n",
    "            return self.items[0]\n",
    "        return None\n",
    "\n",
    "# function for generating all the binary numbers smaller than or equal to a given number n\n",
    "def generateBinaryNumbers(n):\n",
    "\n",
    "    queue = Queue()\n",
    "    result = []\n",
    "\n",
    "    queue.enqueue(\"1\")\n",
    "\n",
    "\n",
    "    while not queue.isEmpty():\n",
    "        current = queue.dequeue()\n",
    "\n",
    "        # 用int將二進位轉為十進位\n",
    "        if int(current, 2) <= n:\n",
    "            result.append(current)\n",
    "\n",
    "            append0 = current + \"0\"\n",
    "            append1 = current + \"1\"\n",
    "\n",
    "            if int(append0, 2) <= n:\n",
    "                queue.enqueue(append0)\n",
    "            if int(append1, 2) <= n:\n",
    "                queue.enqueue(append1)\n",
    "\n",
    "    return result\n",
    "\n",
    "n=10\n",
    "print(\"When n is,\",n,\", the binary numbers are:\")\n",
    "print(generateBinaryNumbers(n))\n",
    "\n",
    "n=13\n",
    "print(\"When n is,\",n,\", the binary numbers are:\")\n",
    "print(generateBinaryNumbers(n))"
   ]
  },
  {
   "cell_type": "markdown",
   "metadata": {},
   "source": [
    "#### Please answer the following:\n",
    "\n",
    "* indicate where and how the queue is used in your program.\n",
    "\n",
    "在 generateBinaryNumbers() 函式中，對列`queue`被用來管理生成的二進位數字。每次將二進位數字從`queue`的前端取出(`current = queue.dequeue()`)，將它添加到結果的`array`，然後將該數字加上兩個二進位的數字`0`、`1`，之後用if條件式判斷換成十進位有沒有比輸入的input小，再加入到`queue`中。\n",
    "```python\n",
    "    if int(append0, 2) <= n:\n",
    "        queue.enqueue(append0)\n",
    "    if int(append1, 2) <= n:\n",
    "        queue.enqueue(append1)\n",
    "```\n",
    "\n",
    "運用對列可以確保當我們往下一位數字運算的時候，是按照順序(FIFO的特性)，產出所有符合條件的二進位數字。"
   ]
  },
  {
   "cell_type": "markdown",
   "metadata": {},
   "source": []
  }
 ],
 "metadata": {
  "kernelspec": {
   "display_name": "Python 3",
   "language": "python",
   "name": "python3"
  },
  "language_info": {
   "codemirror_mode": {
    "name": "ipython",
    "version": 3
   },
   "file_extension": ".py",
   "mimetype": "text/x-python",
   "name": "python",
   "nbconvert_exporter": "python",
   "pygments_lexer": "ipython3",
   "version": "3.10.7"
  }
 },
 "nbformat": 4,
 "nbformat_minor": 2
}
