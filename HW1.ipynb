{
 "cells": [
  {
   "cell_type": "markdown",
   "metadata": {
    "slideshow": {
     "slide_type": "slide"
    }
   },
   "source": [
    "## Homework 1 - Python Practice (Data Structures, Fall 2024)\n",
    "\n",
    "### Problem 1\n",
    "Write a short Python function `sumoddsquares()` that takes a positive integer $n$ and returns the sum of the squares of all the odd positive integers smaller than $n$. Furthermore, please give a single command that computes the same sum in another Python function `sumoddsquares_simple()`, relying\n",
    "on Python's comprehension syntax and the built-in sum function."
   ]
  },
  {
   "cell_type": "code",
   "execution_count": null,
   "metadata": {},
   "outputs": [],
   "source": [
    "# note\n",
    "# 1. list comprehension\n",
    "def sumoddsquares(n):\n",
    "    return sum([i** 2 for i in range(1, n ,2)])\n",
    "\n",
    "# 2. generator expression\n",
    "def sumoddsquares(n):\n",
    "    return sum(i** 2 for i in range(1, n ,2))\n",
    "\n",
    "# 3. while loop\n",
    "def sumoddsquares(n):\n",
    "    total = 0\n",
    "    for i in range(1, n, 2):\n",
    "        total += i**2\n",
    "    return total\n",
    "\n",
    "# 4. recursive\n",
    "def sumoddsquares(n):\n",
    "    if n <= 0:\n",
    "        return 0\n",
    "    else:\n",
    "        if n % 2 != 0:\n",
    "            return n**2 + sumoddsquares(n-2)\n",
    "        else:\n",
    "            return sumoddsquares(n-1)"
   ]
  },
  {
   "cell_type": "code",
   "execution_count": 2,
   "metadata": {
    "slideshow": {
     "slide_type": "skip"
    }
   },
   "outputs": [
    {
     "name": "stdout",
     "output_type": "stream",
     "text": [
      "1\n",
      "165\n",
      "0\n",
      "10\n",
      "0\n",
      "0: 0\n",
      "1: 0\n",
      "2: 1\n",
      "3: 1\n",
      "4: 10\n",
      "5: 10\n",
      "6: 35\n",
      "7: 35\n",
      "8: 84\n",
      "9: 84\n",
      "1\n",
      "165\n",
      "0\n",
      "10\n",
      "0\n",
      "0: 0\n",
      "1: 0\n",
      "2: 1\n",
      "3: 1\n",
      "4: 10\n",
      "5: 10\n",
      "6: 35\n",
      "7: 35\n",
      "8: 84\n",
      "9: 84\n"
     ]
    }
   ],
   "source": [
    "#Write a short Python function sumoddsquares()\n",
    "def sumoddsquares(n):\n",
    "    total = 0\n",
    "    for i in range(1, n, 2):\n",
    "        total += i**2\n",
    "    return total\n",
    "\n",
    "# write a short Python function sumoddsquares_simple() using a single command that computes the same sum \n",
    "def sumoddsquares_simple(k):\n",
    "    return sum(i**2 for i in range(1, k, 2))\n",
    "\n",
    "print (sumoddsquares(2))  #want to add up 1*1\n",
    "print (sumoddsquares(10)) # want to add up 1*1, 3*3, etc.\n",
    "print (sumoddsquares(0))\n",
    "print (sumoddsquares(4))\n",
    "print (sumoddsquares(-5))\n",
    "for x in range (10):\n",
    "    print (f'{x}: {sumoddsquares(x)}')\n",
    "\n",
    "\n",
    "print (sumoddsquares_simple(2))  #want to add up 1*1\n",
    "print (sumoddsquares_simple(10)) # want to add up 1*1, 3*3, etc.\n",
    "print (sumoddsquares_simple(0))\n",
    "print (sumoddsquares_simple(4))\n",
    "print (sumoddsquares_simple(-5))\n",
    "for x in range (10):\n",
    "    print (f'{x}: {sumoddsquares_simple(x)}')"
   ]
  },
  {
   "cell_type": "markdown",
   "metadata": {
    "slideshow": {
     "slide_type": "slide"
    }
   },
   "source": [
    "### Problem 2\n",
    "Write a Python function `uniqueness()` that takes a sequence of numbers and determines if all the numbers are different from each other (that is, they are distinct)."
   ]
  },
  {
   "cell_type": "code",
   "execution_count": null,
   "metadata": {},
   "outputs": [],
   "source": [
    "# note\n",
    "# 1. for loop\n",
    "def uniqueness(seq):\n",
    "    for i in range(len(seq)):\n",
    "        for j in range(i+1, len(seq)):\n",
    "            if seq[i] == seq[j]:\n",
    "                return False\n",
    "    return True\n",
    "\n",
    "# 2. in operator\n",
    "def uniqueness(seq):\n",
    "    for i in range(len(seq)):\n",
    "        if seq[i] in seq[i+1:]:\n",
    "            return False\n",
    "    return True\n",
    "\n",
    "# 3. set\n",
    "def uniqueness(seq):\n",
    "    return len(seq) == len(set(seq))\n"
   ]
  },
  {
   "cell_type": "code",
   "execution_count": 2,
   "metadata": {
    "slideshow": {
     "slide_type": "skip"
    }
   },
   "outputs": [
    {
     "name": "stdout",
     "output_type": "stream",
     "text": [
      "True\n",
      "False\n",
      "True\n"
     ]
    }
   ],
   "source": [
    "# Write a Python function uniqueness()\n",
    "def uniqueness(seq):\n",
    "    for i in range(len(seq)):\n",
    "        for j in range(i+1, len(seq)):\n",
    "            if seq[i] == seq[j]:\n",
    "                return False\n",
    "    return True\n",
    "data = [1,2,3,4,5,6]; print (uniqueness(data))\n",
    "data = [1,2,3,3,5,6]; print (uniqueness(data))\n",
    "data = []; print (uniqueness(data))"
   ]
  },
  {
   "cell_type": "markdown",
   "metadata": {
    "slideshow": {
     "slide_type": "slide"
    }
   },
   "source": [
    "### Problem 3\n",
    "Suppose a teacher would like to arrange the students in a row according to their heights in an increasing order from left to right. With a given sequence of heights of students, please give a way to help the teacher to decide whether the teacher can have an increasing list by rotating the list. For example, given a sequence of numbers $S=\\{6,8,9,3,5\\}$, $S$ can be rotated to be an increasing list as $\\{3,5,6,8,9\\}$ but the other example $S'=\\{1,4,5,2,3\\}$ can not be an increasing list by rotations. The input of this problem thus is a sequence of numbers and the function `rotated_increasing()` is to determine whether the input sequence can be an increasing list by rotations."
   ]
  },
  {
   "cell_type": "code",
   "execution_count": null,
   "metadata": {},
   "outputs": [],
   "source": [
    "# note\n",
    "# 1. find the minimum number and its index, rotate the list, check if the rotated list is sorted, return the result\n",
    "# 可以練習用zip來排序\n",
    "\n",
    "\n",
    "# 2. find the minimum number and its index, rotate the list, check if the rotated list is sorted, return the result\n",
    "def rotated_increasing(sequence):\n",
    "    n = len(sequence)\n",
    "    if n <= 2:\n",
    "        return True\n",
    "    \n",
    "    direction_changes = 0\n",
    "    for i in range(n):\n",
    "        if sequence[i] > sequence[(i + 1) % n]:\n",
    "            direction_changes += 1\n",
    "        \n",
    "        if direction_changes > 1:\n",
    "            return False\n",
    "    \n",
    "    return True\n"
   ]
  },
  {
   "cell_type": "code",
   "execution_count": 5,
   "metadata": {
    "slideshow": {
     "slide_type": "skip"
    }
   },
   "outputs": [
    {
     "name": "stdout",
     "output_type": "stream",
     "text": [
      "[1, 2, 3, 0, 4] 5 False\n",
      "[8, 9, 11, 12, 5] 5 True\n",
      "[7, 9, 11, 12, 14] 5 True\n",
      "[15, 9, 11, 12, 13] 5 True\n",
      "[4, 5, 6, 1, 2, 3] 6 True\n",
      "[4, 6, 1, 5, 3] 5 False\n"
     ]
    }
   ],
   "source": [
    "# write function rotated_increasing()\n",
    "def rotated_increasing(seq):\n",
    "  min_number = min(seq)\n",
    "  min_index = seq.index(min_number)\n",
    "  new_seq = seq[min_index:] + seq[:min_index]\n",
    "  return new_seq == sorted(new_seq)\n",
    "\n",
    "# Driver code \n",
    "arr = [1, 2, 3, 0, 4] \n",
    "print(arr, len(arr), rotated_increasing(arr)) \n",
    "\n",
    "arr = [8, 9, 11, 12, 5] \n",
    "print(arr, len(arr), rotated_increasing(arr)) \n",
    "\n",
    "arr = [7, 9, 11, 12, 14] \n",
    "print(arr, len(arr), rotated_increasing(arr)) \n",
    "\n",
    "arr = [15, 9, 11, 12, 13] \n",
    "print(arr, len(arr), rotated_increasing(arr)) \n",
    "\n",
    "arr = [4, 5, 6, 1, 2, 3] \n",
    "print(arr, len(arr), rotated_increasing(arr)) \n",
    "\n",
    "arr = [4, 6, 1, 5, 3] \n",
    "print(arr, len(arr), rotated_increasing(arr)) "
   ]
  },
  {
   "cell_type": "markdown",
   "metadata": {
    "slideshow": {
     "slide_type": "slide"
    }
   },
   "source": [
    "### Problem 4\n",
    "Write a Python class named `Circle` constructed by a radius with two major methods: `area()` and `perimeter()`, which compute the area and perimeter respectively. For this problem, we simply use $\\pi=3.14$. After a circle instance `c` is initiated with a given radius, we can print out the circle `c` with the radius using `print(c)` statement."
   ]
  },
  {
   "cell_type": "code",
   "execution_count": null,
   "metadata": {},
   "outputs": [],
   "source": [
    "# note\n",
    "'''\n",
    "__str__ 印出字串，如果沒有就是印出物件\n",
    "這個方法決定了當物件被轉換為字串（例如在 print 函數中）時應該如何表示\n",
    "'''"
   ]
  },
  {
   "cell_type": "code",
   "execution_count": 7,
   "metadata": {
    "slideshow": {
     "slide_type": "skip"
    }
   },
   "outputs": [
    {
     "name": "stdout",
     "output_type": "stream",
     "text": [
      "A circle with radius 8\n",
      "The area and perimeter of the input circle are 200.96 and 50.24, respectively.\n"
     ]
    }
   ],
   "source": [
    "# Write a Python class, Circle, with required methods \n",
    "class Circle():\n",
    "    def __init__(self, radius):\n",
    "        self.radius = radius\n",
    "\n",
    "    def area(self):\n",
    "        return 3.14 * self.radius ** 2\n",
    "\n",
    "    def perimeter(self):\n",
    "        return 2 * 3.14 * self.radius\n",
    "    \n",
    "    def __str__(self):\n",
    "        return f'A circle with radius {self.radius}'\n",
    "\n",
    "r = int(input(\"Please give the radius of the circle:\"))\n",
    "Circle = Circle(r)\n",
    "\n",
    "print(Circle)\n",
    "print(f'The area and perimeter of the input circle are {Circle.area():5.2f} and {Circle.perimeter():5.2f}, respectively.')"
   ]
  },
  {
   "cell_type": "markdown",
   "metadata": {
    "slideshow": {
     "slide_type": "slide"
    }
   },
   "source": [
    "### Problem 5\n",
    "\n",
    "Create a Python program that will play the \"A and B\" game with a user. The game works like this:  \n",
    "One randomly generates a 4-digit number with different digits and asks the user to guess this 4-digit number. For every digit that the user guesses correctly in the correct place, the user gets an “A”.  For every digit the user guesses correctly in the wrong place, the user gets a “B”. Every time the user makes a guess, tell them how many “As” and “Bs” the user gets. The process continues until the user guesses the correct 4-digit number and the game is over. During the process, keep track of the number of guesses the user makes throughout the game and tell the user at the end.  \n",
    "\n",
    "Here is an example and suppose that the number generated by the computer is 6581. The interaction may be as below:\n",
    "\n",
    "    Welcome to the A and B Game and a 4-digit number is generated.  \n",
    "    Please guess a number: \n",
    "    >>> 6284\n",
    "    2 A, 0 B\n",
    "    >>> 2451\n",
    "    1 A, 1 B\n",
    "    ...\n",
    "Until the user guesses the correct number or enter `exit` to quit the game.\n",
    "\n",
    "In this exercise, you can use [Python random documentation](https://docs.python.org/3.0/library/random.html) to figure out how to generate a random 4-digit number. "
   ]
  },
  {
   "cell_type": "code",
   "execution_count": null,
   "metadata": {},
   "outputs": [],
   "source": [
    "'''\n",
    "import random\n",
    "    def _check_A(self, user_input):\n",
    "        return sum(a == b for a, b in zip(self.random_number, user_input))\n",
    "\n",
    "    def _check_B(self, user_input):\n",
    "        b_count = sum(digit in self.random_number for digit in user_input)\n",
    "        return b_count - self._check_A(user_input)\n",
    "\n",
    "\n",
    "\n",
    "\n",
    "import random\n",
    "\n",
    "# print(\"Let's play a game of A and B\")\n",
    "# print(\"I will generate a 4-digit number, and you have to guess the numbers one digit at a time.\")\n",
    "# print(\"For every number in the wrong place, you get a B. For every one in the right place, you get an A.\")\n",
    "# print(\"The game ends when you get 4 As!\")\n",
    "\n",
    "# check how many A's\n",
    "def check_A(random_number, user_input):\n",
    "  a_accout = 0\n",
    "  for i in range(4):\n",
    "    if random_number[i] == user_input[i]:\n",
    "      a_accout += 1\n",
    "  return a_accout\n",
    "\n",
    "\n",
    "\n",
    "\n",
    "# check how many B's'\n",
    "def check_B(random_number, user_input):\n",
    "  b_count = 0 \n",
    "  for i in range(4):\n",
    "    if user_input[i] in random_number:\n",
    "      b_count += 1\n",
    "  a_count = check_A(random_number, user_input)\n",
    "  return b_count - a_count\n",
    "\n",
    "\n",
    "all_digits = [str(i) for i in range(10)]\n",
    "random_number = ''.join(random.sample(all_digits, 4))\n",
    "print(random_number)\n",
    "\n",
    "\n",
    "print(\"Let's play a game of A and B\") #explanation\n",
    "print(\"I will generate a 4-digit number, and you have to guess the numbers one digit at a time.\")\n",
    "print(\"For every number in the wrong place, you get a B. For every one in the right place, you get an A.\")\n",
    "print(\"The game ends when you get 4 As!\")\n",
    "print(\"Type exit at any prompt to exit.\")\n",
    "\n",
    "\n",
    "\n",
    "is_finish = False\n",
    "\n",
    "while not is_finish:\n",
    "  user_input = input(\"Give me your best guess: \").lower()\n",
    "\n",
    "  if user_input == 'exit':\n",
    "      print(\"Thanks for playing! The number was:\", random_number)\n",
    "      break\n",
    "\n",
    "  if not (user_input.isdigit() and len(user_input) == 4):\n",
    "      print(\"Please enter exactly 4 digits or 'exit' to end the game.\")\n",
    "      continue\n",
    "\n",
    "\n",
    "\n",
    "  result_A = check_A(random_number, user_input)\n",
    "  result_B = check_B(random_number,user_input)\n",
    "  if result_A == 4:\n",
    "    is_finish = True\n",
    "    print(\"You win!\")\n",
    "    break\n",
    "  print(f\"You have {result_A} As, and {result_B} Bs.\")\n",
    "  print(\"Your guess isn't quite right, try again.\")\n",
    "\n",
    "\n",
    "\n",
    "'''"
   ]
  },
  {
   "cell_type": "code",
   "execution_count": 5,
   "metadata": {
    "slideshow": {
     "slide_type": "skip"
    }
   },
   "outputs": [
    {
     "name": "stdout",
     "output_type": "stream",
     "text": [
      "Let's play a game of A and B\n",
      "I will generate a 4-digit number, and you have to guess the numbers one digit at a time.\n",
      "For every number in the wrong place, you get a B. For every one in the right place, you get an A.\n",
      "The game ends when you get 4 As!\n",
      "Type exit at any prompt to exit.\n",
      "Give me your best guess: 1234\n",
      "You have 1 As, and 1 Bs.\n",
      "Your guess isn't quite right, try again.\n",
      "Give me your best guess: 2345\n",
      "You have 1 As, and 2 Bs.\n",
      "Your guess isn't quite right, try again.\n",
      "Give me your best guess: 3125\n",
      "You have 1 As, and 1 Bs.\n",
      "Your guess isn't quite right, try again.\n",
      "Give me your best guess: exit\n",
      "Sorry to see you leave after 3 guesses and the number was 4035.\n"
     ]
    }
   ],
   "source": [
    "\"\"\"\n",
    "Create a python program that will play the \"A and B\" game with a user. The game works like this:  \n",
    "One randomly generates a 4-digit number and asks the user to guess this 4-digit number. For every digit that \n",
    "the user guesses correctly in the correct place, the user gets an “A”.  For every digit the user guesses correctly \n",
    "in the wrong place, the user gets a “B”. Every time the user makes a guess, tell them how many “As” and “Bs” the user gets. \n",
    "The process continues until the user guesses the correct 4-digit number and the game is over. During the process, \n",
    "keep track of the number of guesses the user makes throughout the game and tell the user at the end.  \n",
    "Here is an example and suppose that the number generated by the computer is 6581. The interaction may be as below:\n",
    "\n",
    "    Welcome to the A and B Game and a 4-digit number is generated.  \n",
    "    Please guess a number: \n",
    "    >>> 6284\n",
    "    2 A, 0 B\n",
    "    >>> 2451\n",
    "    1 A, 1 B\n",
    "    ...\n",
    "\"\"\"\n",
    "\n",
    "import random\n",
    "\n",
    "class NumberGuessingGame:\n",
    "    def __init__(self):\n",
    "        self.all_digits = [str(i) for i in range(10)]\n",
    "        self.random_number = self.generate_number()\n",
    "        self.is_finished = False\n",
    "        self.guess_count = 0\n",
    "\n",
    "    def generate_number(self):\n",
    "        return ''.join(random.sample(self.all_digits, 4))\n",
    "    \n",
    "    def check_A(self, user_input):\n",
    "        a_accout = 0\n",
    "        for i in range(4):\n",
    "            if self.random_number[i] == user_input[i]:\n",
    "                a_accout += 1\n",
    "        return a_accout\n",
    "\n",
    "    def check_B(self, user_input):\n",
    "        b_count = 0 \n",
    "        for i in range(4):\n",
    "            if user_input[i] in self.random_number:\n",
    "                b_count += 1\n",
    "        a_count = self.check_A(user_input)\n",
    "        return b_count - a_count\n",
    "\n",
    "\n",
    "    def play(self):\n",
    "        print(\"Let's play a game of A and B\")\n",
    "        print(\"I will generate a 4-digit number, and you have to guess the numbers one digit at a time.\")\n",
    "        print(\"For every number in the wrong place, you get a B. For every one in the right place, you get an A.\")\n",
    "        print(\"The game ends when you get 4 As!\")\n",
    "        print(\"Type exit at any prompt to exit.\")\n",
    "\n",
    "        while not self.is_finished:\n",
    "            user_input = input(\"Give me your best guess: \").lower()\n",
    "            if user_input == 'exit':\n",
    "                print(f\"Sorry to see you leave after {self.guess_count} guesses and the number was {self.random_number}.\")\n",
    "                break\n",
    "            if not (user_input.isdigit() and len(user_input) == 4):\n",
    "                print(\"Please enter exactly 4 digits or 'exit' to end the game.\")\n",
    "                continue\n",
    "            \n",
    "            self.guess_count += 1\n",
    "            result_A = self.check_A(user_input)\n",
    "            result_B = self.check_B(user_input)\n",
    "            \n",
    "            if result_A == 4:\n",
    "                self.is_finished = True\n",
    "                print(\"You win!\")\n",
    "                print(f\"You made {self.guess_count} guesses.\")\n",
    "                break\n",
    "            print(f\"You have {result_A} As, and {result_B} Bs.\")\n",
    "            print(\"Your guess isn't quite right, try again.\")\n",
    "\n",
    "if __name__ == \"__main__\":\n",
    "    game = NumberGuessingGame()\n",
    "    game.play()\n"
   ]
  }
 ],
 "metadata": {
  "celltoolbar": "Slideshow",
  "kernelspec": {
   "display_name": "Python 3 (ipykernel)",
   "language": "python",
   "name": "python3"
  },
  "language_info": {
   "codemirror_mode": {
    "name": "ipython",
    "version": 3
   },
   "file_extension": ".py",
   "mimetype": "text/x-python",
   "name": "python",
   "nbconvert_exporter": "python",
   "pygments_lexer": "ipython3",
   "version": "3.10.7"
  }
 },
 "nbformat": 4,
 "nbformat_minor": 4
}
